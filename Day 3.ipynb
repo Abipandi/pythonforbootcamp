{
 "cells": [
  {
   "cell_type": "code",
   "execution_count": null,
   "id": "fa7532d8",
   "metadata": {},
   "outputs": [],
   "source": [
    "from tkinter import *\n",
    "from tkinter import ttk\n",
    "\n",
    "Rainbow = Tk()\n",
    "#Declaring Rainbow Title\n",
    "Rainbow.title(\"Registration Screen\")\n",
    "#Declaring Rainbow size\n",
    "Rainbow.geometry('300x300')\n",
    "#Declaring Rainbow Color\n",
    "Rainbow.configure(background = \"light blue\");\n",
    "#below four fields are declared\n",
    "Firstname = Label(Rainbow ,text = \"First Name\").grid(row = 1,column = 0)\n",
    "LastName = Label(Rainbow ,text = \"Last Name\").grid(row = 2,column = 0)\n",
    "Email = Label(Rainbow,text = \"Email Id\").grid(row = 3,column = 0)\n",
    "AadharNumber = Label(Rainbow,text=\"Aadhar Number\").grid(row=4,column=0)\n",
    "Mobile = Label(Rainbow,text = \"Contact Number\").grid(row = 5,column = 0)\n",
    "Language = Label(Rainbow,text=\"Language\").grid(row =6,column = 0)\n",
    "Address =  Label(Rainbow,text=\"Address\").grid(row =7,column = 0)\n",
    "Pincode = Label(Rainbow,text=\"Pincode\").grid(row =8,column = 0)\n",
    "Gender =Label(Rainbow ,text = \"Gender\",width=8,font=(\"bold\",10)).grid(row = 9,column = 0)\n",
    "BloodGroup = Label(Rainbow,text = \"Blood Group\").grid(row =10,column = 0)\n",
    "\n",
    "Firstname1 = Entry(Rainbow).grid(row = 1,column = 1)\n",
    "Lastname1 = Entry(Rainbow).grid(row = 2,column = 1)\n",
    "Email1 = Entry(Rainbow).grid(row = 3,column = 1)\n",
    "AadharNumber1 = Entry(Rainbow).grid(row = 4,column = 1)\n",
    "Mobile1 = Entry(Rainbow).grid(row = 5,column = 1)\n",
    "Language1 = Entry(Rainbow).grid(row = 6,column = 1)\n",
    "Address1 = Entry(Rainbow).grid(row = 7,column = 1)\n",
    "Pincode1 = Entry(Rainbow).grid(row = 8,column = 1)\n",
    "\n",
    "var=IntVar()\n",
    "Radiobutton(Rainbow, text=\"Male\",padx = 20, variable=var, value=1).grid(row = 9,column = 1)\n",
    "Radiobutton(Rainbow, text=\"Female\",padx = 30, variable=var, value=2).grid(row = 9,column = 2)\n",
    "\n",
    "#List of Blood group\n",
    "list_of_BloodGroup =['A+','A-','B+','B-','O+','O-','AB+','AB-']\n",
    "\n",
    "#Dropdown menu\n",
    "a=StringVar()\n",
    "dropdown = OptionMenu(Rainbow,a,*list_of_BloodGroup)\n",
    "dropdown.config(width=18)\n",
    "a.set('Select Blood Group')\n",
    "dropdown.grid(row = 10,column = 1)\n",
    "    \n",
    "Button(Rainbow, text='Registration Form' , width=20,bg=\"grey\",fg='white',font=(\"bold\",10)).grid(row = 0,column =1)   \n",
    "Button(Rainbow, text='Submit' , width=20,bg=\"black\",fg='white',font=(\"bold\",10)).grid(row = 15,column =1)\n",
    "Rainbow.mainloop()"
   ]
  },
  {
   "cell_type": "code",
   "execution_count": null,
   "id": "b1d214b6",
   "metadata": {},
   "outputs": [],
   "source": []
  },
  {
   "cell_type": "code",
   "execution_count": null,
   "id": "2e4083a9",
   "metadata": {},
   "outputs": [],
   "source": []
  }
 ],
 "metadata": {
  "kernelspec": {
   "display_name": "Python 3",
   "language": "python",
   "name": "python3"
  }
 },
 "nbformat": 4,
 "nbformat_minor": 5
}
